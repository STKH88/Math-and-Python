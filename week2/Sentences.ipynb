{
 "cells": [
  {
   "cell_type": "code",
   "execution_count": 2,
   "metadata": {
    "collapsed": true
   },
   "outputs": [],
   "source": [
    "f = open (\"sentences.txt\")"
   ]
  },
  {
   "cell_type": "code",
   "execution_count": 12,
   "metadata": {
    "collapsed": false
   },
   "outputs": [],
   "source": [
    "import re\n",
    "import numpy as np\n",
    "import pandas as pd"
   ]
  },
  {
   "cell_type": "code",
   "execution_count": 13,
   "metadata": {
    "collapsed": false
   },
   "outputs": [],
   "source": [
    "e = 0 # для записи задания из п.4\n",
    "d = {} # словарь\n",
    "h = []\n",
    "for line in f:\n",
    "    a = line.lower()\n",
    "    b = re.split(\"[^a-z]\", a)\n",
    "    c = (filter(None, b))\n",
    "    h.append(c)\n",
    "    for element in c:\n",
    "        if element in d:\n",
    "            continue\n",
    "        else:\n",
    "            d[element] = e\n",
    "            e+=1"
   ]
  },
  {
   "cell_type": "code",
   "execution_count": 6,
   "metadata": {
    "collapsed": false
   },
   "outputs": [],
   "source": [
    "#g = np.zeros(())\n",
    "# d[\"key\"] returns value for a given key"
   ]
  },
  {
   "cell_type": "code",
   "execution_count": 7,
   "metadata": {
    "collapsed": false
   },
   "outputs": [],
   "source": [
    "matrix = np.zeros((len(h), len(d)))"
   ]
  },
  {
   "cell_type": "code",
   "execution_count": 8,
   "metadata": {
    "collapsed": false
   },
   "outputs": [],
   "source": [
    "#p = {} ## РАБОТАЕТ С ОШИБКОЙ, МАТРИЦА НЕПРАВИЛЬНО СВОДИТСЯ, Т.К. count  накапливается\n",
    "#i = 0\n",
    "#count = 1\n",
    "#for line in h:\n",
    "#    i+=1\n",
    "#    for element in line:\n",
    "#        if element in line:\n",
    "#            p[element] = count\n",
    "#            count += 1\n",
    "#            matrix[h.index(line),d[element]] = count\n",
    "#        else:\n",
    "#            continue"
   ]
  },
  {
   "cell_type": "code",
   "execution_count": 9,
   "metadata": {
    "collapsed": false
   },
   "outputs": [],
   "source": [
    "from collections import Counter ## вроде бы работает правильно\n",
    "for line in h:\n",
    "    svc = Counter(line)\n",
    "    for element in line:\n",
    "        matrix[h.index(line),d[element]] = svc[element]"
   ]
  },
  {
   "cell_type": "code",
   "execution_count": 250,
   "metadata": {
    "collapsed": false,
    "scrolled": true
   },
   "outputs": [
    {
     "name": "stdout",
     "output_type": "stream",
     "text": [
      "0 0.0\n",
      "1 0.952754440874\n",
      "2 0.864473814564\n",
      "3 0.895171516328\n",
      "4 0.77708871497\n",
      "5 0.940238569533\n",
      "6 0.732738758088\n",
      "7 0.925875068334\n",
      "8 0.884272487528\n",
      "9 0.905508881748\n",
      "10 0.832816536227\n",
      "11 0.880477139067\n",
      "12 0.839643254853\n",
      "13 0.87035925529\n",
      "14 0.87401184233\n",
      "15 0.944272178742\n",
      "16 0.840636185422\n",
      "17 0.956644501524\n",
      "18 0.944272178742\n",
      "19 0.888544357485\n",
      "20 0.842757274492\n",
      "21 0.825036446944\n"
     ]
    }
   ],
   "source": [
    "import scipy as sp\n",
    "from scipy import spatial\n",
    "out = []\n",
    "for i in range(0,22):\n",
    "    coz = spatial.distance.cosine(matrix[0,], matrix[i,])\n",
    "    print i, coz"
   ]
  },
  {
   "cell_type": "markdown",
   "metadata": {
    "collapsed": false
   },
   "source": [
    "#HOORAY"
   ]
  },
  {
   "cell_type": "code",
   "execution_count": 14,
   "metadata": {
    "collapsed": false
   },
   "outputs": [
    {
     "name": "stdout",
     "output_type": "stream",
     "text": [
      "[]\n"
     ]
    }
   ],
   "source": [
    "print h"
   ]
  },
  {
   "cell_type": "code",
   "execution_count": null,
   "metadata": {
    "collapsed": true
   },
   "outputs": [],
   "source": []
  }
 ],
 "metadata": {
  "anaconda-cloud": {},
  "kernelspec": {
   "display_name": "Python [default]",
   "language": "python",
   "name": "python2"
  },
  "language_info": {
   "codemirror_mode": {
    "name": "ipython",
    "version": 2
   },
   "file_extension": ".py",
   "mimetype": "text/x-python",
   "name": "python",
   "nbconvert_exporter": "python",
   "pygments_lexer": "ipython2",
   "version": "2.7.12"
  }
 },
 "nbformat": 4,
 "nbformat_minor": 1
}
